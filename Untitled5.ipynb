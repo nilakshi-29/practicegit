{
  "nbformat": 4,
  "nbformat_minor": 0,
  "metadata": {
    "colab": {
      "provenance": [],
      "authorship_tag": "ABX9TyMT5b3MJS6KPagcIz7dIoeO",
      "include_colab_link": true
    },
    "kernelspec": {
      "name": "python3",
      "display_name": "Python 3"
    },
    "language_info": {
      "name": "python"
    }
  },
  "cells": [
    {
      "cell_type": "markdown",
      "metadata": {
        "id": "view-in-github",
        "colab_type": "text"
      },
      "source": [
        "<a href=\"https://colab.research.google.com/github/nilakshi-29/practicegit/blob/main/Untitled5.ipynb\" target=\"_parent\"><img src=\"https://colab.research.google.com/assets/colab-badge.svg\" alt=\"Open In Colab\"/></a>"
      ]
    },
    {
      "cell_type": "markdown",
      "source": [
        "factorial"
      ],
      "metadata": {
        "id": "r9hjL77OHMqk"
      }
    },
    {
      "cell_type": "code",
      "execution_count": 5,
      "metadata": {
        "id": "V5_9roXtyXx2"
      },
      "outputs": [],
      "source": [
        "def factorial(n):\n",
        "  if n<0:\n",
        "    return 0\n",
        "  elif n==1 or n==0:\n",
        "    return 1\n",
        "  else:\n",
        "    return n*factorial(n-1)\n"
      ]
    },
    {
      "cell_type": "code",
      "source": [
        "factorial(-1)"
      ],
      "metadata": {
        "colab": {
          "base_uri": "https://localhost:8080/"
        },
        "id": "NCG1KWEKysPi",
        "outputId": "8d554e90-2125-409f-8807-62808650c7de"
      },
      "execution_count": 6,
      "outputs": [
        {
          "output_type": "execute_result",
          "data": {
            "text/plain": [
              "0"
            ]
          },
          "metadata": {},
          "execution_count": 6
        }
      ]
    },
    {
      "cell_type": "code",
      "source": [
        "factorial= lambda x: 0 if x<0 else(1 if x==0 or x==1 else x*factorial(x-1))\n",
        "\n"
      ],
      "metadata": {
        "id": "PHVQvccbyuHW"
      },
      "execution_count": 15,
      "outputs": []
    },
    {
      "cell_type": "code",
      "source": [
        "print(factorial(-1))"
      ],
      "metadata": {
        "colab": {
          "base_uri": "https://localhost:8080/"
        },
        "id": "GjcT9ea32O0S",
        "outputId": "65e3a6df-2cd1-4cfc-80ef-e8d5a5b8fc1b"
      },
      "execution_count": 18,
      "outputs": [
        {
          "output_type": "stream",
          "name": "stdout",
          "text": [
            "0\n"
          ]
        }
      ]
    },
    {
      "cell_type": "code",
      "source": [
        "fact= lambda x: 1 if x==0 or x==1 else x*fact(x-1)"
      ],
      "metadata": {
        "id": "1sU0uO3i2Sm3"
      },
      "execution_count": 21,
      "outputs": []
    },
    {
      "cell_type": "code",
      "source": [
        "fact(5)"
      ],
      "metadata": {
        "colab": {
          "base_uri": "https://localhost:8080/"
        },
        "id": "mOYAlQAEG29-",
        "outputId": "69f1616a-af0f-46c7-b8fa-c15edd29d279"
      },
      "execution_count": 22,
      "outputs": [
        {
          "output_type": "execute_result",
          "data": {
            "text/plain": [
              "120"
            ]
          },
          "metadata": {},
          "execution_count": 22
        }
      ]
    },
    {
      "cell_type": "code",
      "source": [],
      "metadata": {
        "id": "SefVEomGG5eI"
      },
      "execution_count": null,
      "outputs": []
    }
  ]
}